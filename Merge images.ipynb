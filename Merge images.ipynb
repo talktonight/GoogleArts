{
 "cells": [
  {
   "cell_type": "code",
   "execution_count": 1,
   "metadata": {
    "collapsed": true
   },
   "outputs": [],
   "source": [
    "#Importação de pacotes\n",
    "import sys\n",
    "from PIL import Image\n",
    "import os"
   ]
  },
  {
   "cell_type": "code",
   "execution_count": 4,
   "metadata": {
    "collapsed": true
   },
   "outputs": [],
   "source": [
    "x = 202\n",
    "y = 109\n",
    "lista_imagens = os.listdir(\"Imagens\")\n",
    "lista_imagens.remove('.DS_Store')\n",
    "lista_imagens.remove('Cropped')\n",
    "lista_imagens.remove('Low')\n",
    "# Coluna inicial que deseja dar merge\n",
    "nini = 0\n",
    "# Coluna final que deseja dar merge\n",
    "nfim = 10\n",
    "\n",
    "# Linha inicial que deseja dar merge\n",
    "mini = 0\n",
    "# Linha final que deseja dar merge\n",
    "mfim = 10"
   ]
  },
  {
   "cell_type": "code",
   "execution_count": 34,
   "metadata": {},
   "outputs": [],
   "source": [
    "x_offset = 0\n",
    "\n",
    "# Nova imagem\n",
    "nova_img = Image.new('RGB',((nfim-nini+1)*512,(mfim-mini+1)*512))\n",
    "\n",
    "for coluna in Lista:\n",
    "    y_offset = 0\n",
    "    imagens = [Image.open(coluna[i]) for i in range(nini,nfim)]\n",
    "    \n",
    "    for img in imagens:\n",
    "        nova_img.paste(img, (x_offset,y_offset))\n",
    "        y_offset += 512\n",
    "    x_offset += 512\n",
    "nova_img.save(\"Colunas/%s a %s.jpg\"%(Lista[nini][mini],Lista[nfim][mfim]))\n",
    "    "
   ]
  },
  {
   "cell_type": "code",
   "execution_count": null,
   "metadata": {
    "collapsed": true
   },
   "outputs": [],
   "source": []
  }
 ],
 "metadata": {
  "anaconda-cloud": {},
  "kernelspec": {
   "display_name": "Python 3",
   "language": "python",
   "name": "python3"
  },
  "language_info": {
   "codemirror_mode": {
    "name": "ipython",
    "version": 3
   },
   "file_extension": ".py",
   "mimetype": "text/x-python",
   "name": "python",
   "nbconvert_exporter": "python",
   "pygments_lexer": "ipython3",
   "version": "3.6.4"
  }
 },
 "nbformat": 4,
 "nbformat_minor": 1
}
