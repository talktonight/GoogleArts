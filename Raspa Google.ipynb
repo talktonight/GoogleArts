{
 "cells": [
  {
   "cell_type": "code",
   "execution_count": 39,
   "metadata": {},
   "outputs": [],
   "source": [
    "# Importação de pacotes\n",
    "from selenium import webdriver\n",
    "import urllib.request as ur\n",
    "from selenium.webdriver.common.keys import Keys\n",
    "from selenium.webdriver import ActionChains\n",
    "import numpy\n",
    "import time\n",
    "import os.path\n",
    "from selenium.webdriver.support.ui import WebDriverWait\n",
    "from selenium.webdriver.support import expected_conditions as EC\n",
    "from selenium.webdriver.common.by import By\n",
    "from selenium.webdriver.chrome.options import Options"
   ]
  },
  {
   "cell_type": "code",
   "execution_count": 40,
   "metadata": {},
   "outputs": [],
   "source": [
    "# Configurações de inicialização\n",
    "chromeOptions = Options()\n",
    "chromeOptions.add_argument(\"--start-maximized\")\n",
    "driver = webdriver.Chrome('/Users/veronicastocco/Downloads/chromedriver')"
   ]
  },
  {
   "cell_type": "code",
   "execution_count": 41,
   "metadata": {},
   "outputs": [],
   "source": [
    "# Insira a URL do quadro\n",
    "base_url = \"retrato-de-anita-garibaldi/_gHuO-qxgq4wrQ\"\n",
    "class_code = \"XkWAb-LmsqOc\"\n",
    "URL_quadro = \"https://artsandculture.google.com/asset/\"+base_url+\"?ms=%7B%22x%22%3A0.49807661329198927%2C%22y%22%3A0.5051843704574623%2C%22z%22%3A15%2C%22size%22%3A%7B%22width%22%3A0.04000252182958736%2C%22height%22%3A0.018183142357739365%7D%7D\"\n",
    "# Abra o quadro\n",
    "driver.get(URL_quadro)"
   ]
  },
  {
   "cell_type": "code",
   "execution_count": 42,
   "metadata": {},
   "outputs": [],
   "source": [
    "# Diminua o zoom até 25%"
   ]
  },
  {
   "cell_type": "code",
   "execution_count": 43,
   "metadata": {},
   "outputs": [],
   "source": [
    "# Rode novamente para ir para o quadro novamente\n",
    "driver.get(URL_quadro)"
   ]
  },
  {
   "cell_type": "code",
   "execution_count": 44,
   "metadata": {},
   "outputs": [
    {
     "name": "stdout",
     "output_type": "stream",
     "text": [
      "13\n",
      "28\n"
     ]
    }
   ],
   "source": [
    "# Pegue as variáveis do quadro\n",
    "url_ajustada = driver.current_url\n",
    "time.sleep(5)\n",
    "x = float(url_ajustada.split(\"%7B%22x%22%3A\")[1].split(\"%2C%22y%22%3A\")[0])\n",
    "y = float(url_ajustada.split(\"%7B%22x%22%3A\")[1].split(\"%2C%22y%22%3A\")[1].split(\"%2C%22z%22%3A\")[0])\n",
    "z = float(url_ajustada.split(\"%7B%22x%22%3A\")[1].split(\"%2C%22y%22%3A\")[1].split(\"%2C%22z%22%3A\")[1].split(\"%2C%22size%22%3A%7B%22width%22%3A\")[0])\n",
    "w = float(url_ajustada.split(\"%7B%22x%22%3A\")[1].split(\"%2C%22y%22%3A\")[1].split(\"%2C%22z%22%3A\")[1].split(\"%2C%22size%22%3A%7B%22width%22%3A\")[1].split(\"%2C%22height%22%3A\")[0])\n",
    "h = float(url_ajustada.split(\"%7B%22x%22%3A\")[1].split(\"%2C%22y%22%3A\")[1].split(\"%2C%22z%22%3A\")[1].split(\"%2C%22size%22%3A%7B%22width%22%3A\")[1].split(\"%2C%22height%22%3A\")[1].split(\"%7D%7D\")[0])\n",
    "\n",
    "# Calcule os parâmetros necessários\n",
    "xt = w \n",
    "yt = h \n",
    "nx = int((1-x)/w) + 1\n",
    "ny = int((1-y)/h) + 1\n",
    "\n",
    "print(nx)\n",
    "print(ny)\n",
    "\n",
    "# Número de imagens exibidos na tela\n",
    "elems = driver.find_elements_by_class_name('XkWAb-LmsqOc')\n",
    "n = len(elems[3:])\n",
    "\n",
    "# Se der uma divisão por zero, rode novamente"
   ]
  },
  {
   "cell_type": "code",
   "execution_count": null,
   "metadata": {
    "scrolled": true
   },
   "outputs": [
    {
     "name": "stdout",
     "output_type": "stream",
     "text": [
      "0 0 0 Imagens/0 - 0.png\n",
      "0 0 2 Imagens/0 - 2.png\n",
      "0 0 3 Imagens/0 - 3.png\n",
      "0 0 4 Imagens/0 - 4.png\n",
      "0 0 5 Imagens/0 - 5.png\n",
      "0 0 6 Imagens/1 - 0.png\n",
      "0 0 7 Imagens/1 - 1.png\n",
      "0 0 8 Imagens/1 - 2.png\n",
      "0 0 9 Imagens/1 - 3.png\n",
      "0 0 10 Imagens/1 - 4.png\n",
      "0 0 11 Imagens/1 - 5.png\n",
      "0 0 12 Imagens/2 - 0.png\n",
      "0 0 13 Imagens/2 - 1.png\n",
      "0 0 14 Imagens/2 - 2.png\n",
      "0 0 15 Imagens/2 - 3.png\n",
      "0 0 16 Imagens/2 - 4.png\n",
      "0 0 17 Imagens/2 - 5.png\n",
      "0 0 18 Imagens/3 - 0.png\n",
      "0 0 19 Imagens/3 - 1.png\n",
      "0 0 20 Imagens/3 - 2.png\n",
      "0 0 21 Imagens/3 - 3.png\n",
      "0 0 22 Imagens/3 - 4.png\n",
      "0 0 23 Imagens/3 - 5.png\n",
      "0 0 24 Imagens/4 - 0.png\n",
      "0 0 25 Imagens/4 - 1.png\n",
      "0 0 26 Imagens/4 - 2.png\n",
      "0 0 27 Imagens/4 - 3.png\n",
      "0 0 28 Imagens/4 - 4.png\n",
      "0 0 29 Imagens/4 - 5.png\n",
      "0 0 30 Imagens/5 - 0.png\n",
      "0 0 31 Imagens/5 - 1.png\n",
      "0 0 32 Imagens/5 - 2.png\n",
      "0 0 33 Imagens/5 - 3.png\n",
      "0 0 34 Imagens/5 - 4.png\n",
      "0 0 35 Imagens/5 - 5.png\n",
      "0 0 36 Imagens/6 - 0.png\n",
      "0 0 37 Imagens/6 - 1.png\n",
      "0 0 38 Imagens/6 - 2.png\n",
      "0 0 39 Imagens/6 - 3.png\n",
      "0 0 40 Imagens/6 - 4.png\n",
      "0 0 41 Imagens/6 - 5.png\n",
      "0 0 42 Imagens/7 - 0.png\n",
      "0 0 43 Imagens/7 - 1.png\n",
      "0 0 44 Imagens/7 - 2.png\n",
      "0 0 45 Imagens/7 - 3.png\n",
      "0 0 46 Imagens/7 - 4.png\n",
      "0 0 47 Imagens/7 - 5.png\n",
      "0 0 48 Imagens/8 - 0.png\n",
      "0 0 49 Imagens/8 - 1.png\n",
      "0 0 50 Imagens/8 - 2.png\n",
      "0 0 51 Imagens/8 - 3.png\n",
      "0 0 52 Imagens/8 - 4.png\n",
      "0 0 53 Imagens/8 - 5.png\n",
      "0 0 54 Imagens/9 - 0.png\n",
      "0 0 55 Imagens/9 - 1.png\n",
      "0 0 56 Imagens/9 - 2.png\n",
      "0 0 57 Imagens/9 - 3.png\n",
      "0 0 58 Imagens/9 - 4.png\n",
      "0 0 59 Imagens/9 - 5.png\n",
      "0\t0\t60\tNão encontrado\n",
      "0\t0\t61\tNão encontrado\n",
      "0\t0\t62\tNão encontrado\n",
      "0\t0\t63\tNão encontrado\n",
      "0\t0\t64\tNão encontrado\n",
      "0\t0\t65\tNão encontrado\n",
      "0\t0\t66\tNão encontrado\n",
      "0\t0\t67\tNão encontrado\n",
      "0\t0\t68\tNão encontrado\n",
      "0\t0\t69\tNão encontrado\n",
      "0\t0\t70\tNão encontrado\n",
      "0\t0\t71\tNão encontrado\n",
      "1 0 1 Imagens/0 - 1.png\n"
     ]
    }
   ],
   "source": [
    "base = \"https://artsandculture.google.com/asset/\"+base_url+\"?ms=%7B%22x%22%3A\"\n",
    "erros = []\n",
    "faltantes = []\n",
    "for yi in range(0, nx):\n",
    "    for xi in range(0, ny):\n",
    "        driver.get(base + str(xt+xi*w)+\"%2C%22y%22%3A\"+str(yt+yi*h)+\"%2C%22z%22%3A16%2C%22size%22%3A%7B%22width%22%3A\"+str(w)+\"%2C%22height%22%3A\"+str(h)+\"%7D%7D\")\n",
    "        time.sleep(6)\n",
    "        for i in range(n):\n",
    "            try:\n",
    "                time.sleep(6)\n",
    "                elems = driver.find_elements_by_class_name(class_code)\n",
    "                string = elems[i+3].get_attribute(name='style')\n",
    "                filename = \"Imagens/%d - %d.png\"%(int((int(string[string.find(\"(\")+1:string.find(\"px, \")])+511)/512),int((int(string[string.find(\", \")+2:string.find(\"px, 0px);\")])+511)/512))\n",
    "                if not os.path.isfile(filename):\n",
    "                    driver.get(elems[i+3].get_attribute(name='src'))\n",
    "                    driver.get_screenshot_as_file(filename)\n",
    "                    print(xi,yi,i,filename)\n",
    "                    driver.get(base + str(xt+xi*w)+\"%2C%22y%22%3A\"+str(yt+yi*h)+\"%2C%22z%22%3A16%2C%22size%22%3A%7B%22width%22%3A\"+str(w)+\"%2C%22height%22%3A\"+str(h)+\"%7D%7D\")\n",
    "                else:\n",
    "                    pass\n",
    "            except:\n",
    "                print(\"%d\\t%d\\t%d\\t%s\"%(yi,xi,i,\"Não encontrado\"))"
   ]
  },
  {
   "cell_type": "code",
   "execution_count": null,
   "metadata": {},
   "outputs": [],
   "source": []
  },
  {
   "cell_type": "code",
   "execution_count": null,
   "metadata": {},
   "outputs": [],
   "source": []
  }
 ],
 "metadata": {
  "anaconda-cloud": {},
  "kernelspec": {
   "display_name": "Python 3",
   "language": "python",
   "name": "python3"
  },
  "language_info": {
   "codemirror_mode": {
    "name": "ipython",
    "version": 3
   },
   "file_extension": ".py",
   "mimetype": "text/x-python",
   "name": "python",
   "nbconvert_exporter": "python",
   "pygments_lexer": "ipython3",
   "version": "3.6.4"
  }
 },
 "nbformat": 4,
 "nbformat_minor": 1
}
