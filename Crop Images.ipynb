{
 "cells": [
  {
   "cell_type": "code",
   "execution_count": 36,
   "metadata": {},
   "outputs": [],
   "source": [
    "# Importação dos pacotes\n",
    "from PIL import Image, ImageChops\n",
    "import os\n",
    "import numpy"
   ]
  },
  {
   "cell_type": "code",
   "execution_count": 37,
   "metadata": {},
   "outputs": [],
   "source": [
    "lista_imagens = os.listdir(\"Imagens\")\n",
    "lista_imagens.remove('.DS_Store')\n",
    "lista_imagens.remove('Cropped')\n",
    "lista_imagens.remove('Low')"
   ]
  },
  {
   "cell_type": "code",
   "execution_count": 38,
   "metadata": {},
   "outputs": [],
   "source": [
    "def trim(im,nome):\n",
    "    bg = Image.new(im.mode, im.size, im.getpixel((0, 0)))\n",
    "    diff = ImageChops.difference(im, bg)\n",
    "    diff = ImageChops.add(diff, diff, 2.0, 0)\n",
    "    box = diff.getbbox()\n",
    "    if box:\n",
    "        imagem = im.crop(box)\n",
    "        imagem.save(\"Imagens/Cropped/%s\"%nome)\n",
    "        imagem = imagem.resize((192,192),Image.ANTIALIAS)\n",
    "        imagem.save(\"Imagens/Low/%s\"%nome, quality=1, optimize=True)\n",
    "    return im.crop(box)"
   ]
  },
  {
   "cell_type": "code",
   "execution_count": 39,
   "metadata": {},
   "outputs": [],
   "source": [
    "for imagem in lista_imagens:\n",
    "    img = Image.open(\"Imagens/%s\"%imagem)\n",
    "    img_cropped = trim(img,imagem)"
   ]
  },
  {
   "cell_type": "code",
   "execution_count": null,
   "metadata": {},
   "outputs": [],
   "source": []
  }
 ],
 "metadata": {
  "anaconda-cloud": {},
  "kernelspec": {
   "display_name": "Python 3",
   "language": "python",
   "name": "python3"
  },
  "language_info": {
   "codemirror_mode": {
    "name": "ipython",
    "version": 3
   },
   "file_extension": ".py",
   "mimetype": "text/x-python",
   "name": "python",
   "nbconvert_exporter": "python",
   "pygments_lexer": "ipython3",
   "version": "3.6.4"
  }
 },
 "nbformat": 4,
 "nbformat_minor": 1
}
